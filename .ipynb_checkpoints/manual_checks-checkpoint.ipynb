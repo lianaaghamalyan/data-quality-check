{
 "cells": [
  {
   "cell_type": "code",
   "execution_count": 2,
   "id": "13ec517b-5482-40b3-9179-aa7104752d8d",
   "metadata": {},
   "outputs": [],
   "source": [
    "import pandas as pd\n",
    "from datetime import datetime\n",
    "import re"
   ]
  },
  {
   "cell_type": "code",
   "execution_count": 3,
   "id": "be3f3060-946e-4f45-8b80-8576f87feed9",
   "metadata": {},
   "outputs": [],
   "source": [
    "cust = pd.read_csv(\"customers.csv\", delimiter=';')\n",
    "prod = pd.read_csv(\"products.csv\", delimiter=';')\n",
    "trans = pd.read_csv(\"transactions.csv\", delimiter=';')"
   ]
  },
  {
   "cell_type": "code",
   "execution_count": 4,
   "id": "416f5c66-f17f-4a89-9080-e8a47e9d2224",
   "metadata": {},
   "outputs": [
    {
     "data": {
      "text/html": [
       "<div>\n",
       "<style scoped>\n",
       "    .dataframe tbody tr th:only-of-type {\n",
       "        vertical-align: middle;\n",
       "    }\n",
       "\n",
       "    .dataframe tbody tr th {\n",
       "        vertical-align: top;\n",
       "    }\n",
       "\n",
       "    .dataframe thead th {\n",
       "        text-align: right;\n",
       "    }\n",
       "</style>\n",
       "<table border=\"1\" class=\"dataframe\">\n",
       "  <thead>\n",
       "    <tr style=\"text-align: right;\">\n",
       "      <th></th>\n",
       "      <th>customer_id</th>\n",
       "      <th>first_name</th>\n",
       "      <th>last_name</th>\n",
       "      <th>email</th>\n",
       "    </tr>\n",
       "  </thead>\n",
       "  <tbody>\n",
       "    <tr>\n",
       "      <th>0</th>\n",
       "      <td>1</td>\n",
       "      <td>James</td>\n",
       "      <td>Martinez</td>\n",
       "      <td>david.brown@email.com</td>\n",
       "    </tr>\n",
       "    <tr>\n",
       "      <th>1</th>\n",
       "      <td>2</td>\n",
       "      <td>Jane</td>\n",
       "      <td>Lee</td>\n",
       "      <td>anna.miller@email.com</td>\n",
       "    </tr>\n",
       "    <tr>\n",
       "      <th>2</th>\n",
       "      <td>3</td>\n",
       "      <td>Sophie</td>\n",
       "      <td>Smith</td>\n",
       "      <td>sophie.brown@email.com</td>\n",
       "    </tr>\n",
       "    <tr>\n",
       "      <th>3</th>\n",
       "      <td>4</td>\n",
       "      <td>Robert</td>\n",
       "      <td>Lee</td>\n",
       "      <td>robert.williams@email.com</td>\n",
       "    </tr>\n",
       "    <tr>\n",
       "      <th>4</th>\n",
       "      <td>5</td>\n",
       "      <td>David</td>\n",
       "      <td>Smith</td>\n",
       "      <td>john.miller@email.com</td>\n",
       "    </tr>\n",
       "    <tr>\n",
       "      <th>5</th>\n",
       "      <td>6</td>\n",
       "      <td>Jane</td>\n",
       "      <td>Smith</td>\n",
       "      <td>jane.lee@email.com</td>\n",
       "    </tr>\n",
       "    <tr>\n",
       "      <th>6</th>\n",
       "      <td>7</td>\n",
       "      <td>Lisa</td>\n",
       "      <td>Smith</td>\n",
       "      <td>david.doe@email.com</td>\n",
       "    </tr>\n",
       "    <tr>\n",
       "      <th>7</th>\n",
       "      <td>8</td>\n",
       "      <td>Lisa</td>\n",
       "      <td>Johnson</td>\n",
       "      <td>robert.smith@email.com</td>\n",
       "    </tr>\n",
       "    <tr>\n",
       "      <th>8</th>\n",
       "      <td>9</td>\n",
       "      <td>John</td>\n",
       "      <td>Brown</td>\n",
       "      <td>robert.johnson@email.com</td>\n",
       "    </tr>\n",
       "    <tr>\n",
       "      <th>9</th>\n",
       "      <td>10</td>\n",
       "      <td>John</td>\n",
       "      <td>Taylor</td>\n",
       "      <td>jane.johnson@email.com</td>\n",
       "    </tr>\n",
       "  </tbody>\n",
       "</table>\n",
       "</div>"
      ],
      "text/plain": [
       "   customer_id first_name last_name                      email\n",
       "0            1      James  Martinez      david.brown@email.com\n",
       "1            2       Jane       Lee      anna.miller@email.com\n",
       "2            3     Sophie     Smith     sophie.brown@email.com\n",
       "3            4     Robert       Lee  robert.williams@email.com\n",
       "4            5      David     Smith      john.miller@email.com\n",
       "5            6       Jane     Smith         jane.lee@email.com\n",
       "6            7       Lisa     Smith        david.doe@email.com\n",
       "7            8       Lisa   Johnson     robert.smith@email.com\n",
       "8            9       John     Brown   robert.johnson@email.com\n",
       "9           10       John    Taylor     jane.johnson@email.com"
      ]
     },
     "execution_count": 4,
     "metadata": {},
     "output_type": "execute_result"
    }
   ],
   "source": [
    "cust.head(10)"
   ]
  },
  {
   "cell_type": "code",
   "execution_count": 5,
   "id": "d6bfa44c-ba62-4e39-8b00-94221cc2e93a",
   "metadata": {},
   "outputs": [
    {
     "data": {
      "text/html": [
       "<div>\n",
       "<style scoped>\n",
       "    .dataframe tbody tr th:only-of-type {\n",
       "        vertical-align: middle;\n",
       "    }\n",
       "\n",
       "    .dataframe tbody tr th {\n",
       "        vertical-align: top;\n",
       "    }\n",
       "\n",
       "    .dataframe thead th {\n",
       "        text-align: right;\n",
       "    }\n",
       "</style>\n",
       "<table border=\"1\" class=\"dataframe\">\n",
       "  <thead>\n",
       "    <tr style=\"text-align: right;\">\n",
       "      <th></th>\n",
       "      <th>product_id</th>\n",
       "      <th>product_name</th>\n",
       "      <th>category</th>\n",
       "      <th>price</th>\n",
       "    </tr>\n",
       "  </thead>\n",
       "  <tbody>\n",
       "    <tr>\n",
       "      <th>0</th>\n",
       "      <td>101</td>\n",
       "      <td>Product 101</td>\n",
       "      <td>Electronics</td>\n",
       "      <td>182.474044</td>\n",
       "    </tr>\n",
       "    <tr>\n",
       "      <th>1</th>\n",
       "      <td>102</td>\n",
       "      <td>Product 102</td>\n",
       "      <td>Appliances</td>\n",
       "      <td>112.870046</td>\n",
       "    </tr>\n",
       "    <tr>\n",
       "      <th>2</th>\n",
       "      <td>103</td>\n",
       "      <td>Product 103</td>\n",
       "      <td>Electronics</td>\n",
       "      <td>453.002773</td>\n",
       "    </tr>\n",
       "    <tr>\n",
       "      <th>3</th>\n",
       "      <td>104</td>\n",
       "      <td>Product 104</td>\n",
       "      <td>Electronics</td>\n",
       "      <td>225.062933</td>\n",
       "    </tr>\n",
       "    <tr>\n",
       "      <th>4</th>\n",
       "      <td>105</td>\n",
       "      <td>Product 105</td>\n",
       "      <td>Appliances</td>\n",
       "      <td>285.062664</td>\n",
       "    </tr>\n",
       "    <tr>\n",
       "      <th>5</th>\n",
       "      <td>106</td>\n",
       "      <td>Product 106</td>\n",
       "      <td>Appliances</td>\n",
       "      <td>485.428209</td>\n",
       "    </tr>\n",
       "    <tr>\n",
       "      <th>6</th>\n",
       "      <td>107</td>\n",
       "      <td>Product 107</td>\n",
       "      <td>Electronics</td>\n",
       "      <td>205.695362</td>\n",
       "    </tr>\n",
       "    <tr>\n",
       "      <th>7</th>\n",
       "      <td>108</td>\n",
       "      <td>Product 108</td>\n",
       "      <td>Clothing</td>\n",
       "      <td>388.884465</td>\n",
       "    </tr>\n",
       "    <tr>\n",
       "      <th>8</th>\n",
       "      <td>109</td>\n",
       "      <td>Product 109</td>\n",
       "      <td>Appliances</td>\n",
       "      <td>224.001381</td>\n",
       "    </tr>\n",
       "    <tr>\n",
       "      <th>9</th>\n",
       "      <td>110</td>\n",
       "      <td>Product 110</td>\n",
       "      <td>Electronics</td>\n",
       "      <td>427.471787</td>\n",
       "    </tr>\n",
       "  </tbody>\n",
       "</table>\n",
       "</div>"
      ],
      "text/plain": [
       "   product_id product_name     category       price\n",
       "0         101  Product 101  Electronics  182.474044\n",
       "1         102  Product 102   Appliances  112.870046\n",
       "2         103  Product 103  Electronics  453.002773\n",
       "3         104  Product 104  Electronics  225.062933\n",
       "4         105  Product 105   Appliances  285.062664\n",
       "5         106  Product 106   Appliances  485.428209\n",
       "6         107  Product 107  Electronics  205.695362\n",
       "7         108  Product 108     Clothing  388.884465\n",
       "8         109  Product 109   Appliances  224.001381\n",
       "9         110  Product 110  Electronics  427.471787"
      ]
     },
     "execution_count": 5,
     "metadata": {},
     "output_type": "execute_result"
    }
   ],
   "source": [
    "prod.head(10)"
   ]
  },
  {
   "cell_type": "code",
   "execution_count": 6,
   "id": "596a4ed8-1ff4-408a-b0cf-50a5afaeff85",
   "metadata": {},
   "outputs": [
    {
     "data": {
      "text/html": [
       "<div>\n",
       "<style scoped>\n",
       "    .dataframe tbody tr th:only-of-type {\n",
       "        vertical-align: middle;\n",
       "    }\n",
       "\n",
       "    .dataframe tbody tr th {\n",
       "        vertical-align: top;\n",
       "    }\n",
       "\n",
       "    .dataframe thead th {\n",
       "        text-align: right;\n",
       "    }\n",
       "</style>\n",
       "<table border=\"1\" class=\"dataframe\">\n",
       "  <thead>\n",
       "    <tr style=\"text-align: right;\">\n",
       "      <th></th>\n",
       "      <th>transaction_id</th>\n",
       "      <th>transaction_date</th>\n",
       "      <th>product_id</th>\n",
       "      <th>amount</th>\n",
       "    </tr>\n",
       "  </thead>\n",
       "  <tbody>\n",
       "    <tr>\n",
       "      <th>0</th>\n",
       "      <td>1</td>\n",
       "      <td>2024-07-06</td>\n",
       "      <td>103</td>\n",
       "      <td>100.045934</td>\n",
       "    </tr>\n",
       "    <tr>\n",
       "      <th>1</th>\n",
       "      <td>2</td>\n",
       "      <td>2024-09-08</td>\n",
       "      <td>106</td>\n",
       "      <td>317.079944</td>\n",
       "    </tr>\n",
       "    <tr>\n",
       "      <th>2</th>\n",
       "      <td>3</td>\n",
       "      <td>2024-07-31</td>\n",
       "      <td>105</td>\n",
       "      <td>309.191028</td>\n",
       "    </tr>\n",
       "    <tr>\n",
       "      <th>3</th>\n",
       "      <td>4</td>\n",
       "      <td>2024-04-10</td>\n",
       "      <td>103</td>\n",
       "      <td>424.357274</td>\n",
       "    </tr>\n",
       "    <tr>\n",
       "      <th>4</th>\n",
       "      <td>5</td>\n",
       "      <td>2024-07-09</td>\n",
       "      <td>101</td>\n",
       "      <td>138.145672</td>\n",
       "    </tr>\n",
       "    <tr>\n",
       "      <th>5</th>\n",
       "      <td>6</td>\n",
       "      <td>2024-04-25</td>\n",
       "      <td>103</td>\n",
       "      <td>414.536235</td>\n",
       "    </tr>\n",
       "    <tr>\n",
       "      <th>6</th>\n",
       "      <td>7</td>\n",
       "      <td>NaN</td>\n",
       "      <td>104</td>\n",
       "      <td>328.273000</td>\n",
       "    </tr>\n",
       "    <tr>\n",
       "      <th>7</th>\n",
       "      <td>8</td>\n",
       "      <td>2024-08-30</td>\n",
       "      <td>106</td>\n",
       "      <td>344.829897</td>\n",
       "    </tr>\n",
       "    <tr>\n",
       "      <th>8</th>\n",
       "      <td>9</td>\n",
       "      <td>2024-10-03</td>\n",
       "      <td>106</td>\n",
       "      <td>126.410021</td>\n",
       "    </tr>\n",
       "    <tr>\n",
       "      <th>9</th>\n",
       "      <td>10</td>\n",
       "      <td>2024-04-06</td>\n",
       "      <td>106</td>\n",
       "      <td>404.427439</td>\n",
       "    </tr>\n",
       "  </tbody>\n",
       "</table>\n",
       "</div>"
      ],
      "text/plain": [
       "   transaction_id transaction_date  product_id      amount\n",
       "0               1       2024-07-06         103  100.045934\n",
       "1               2       2024-09-08         106  317.079944\n",
       "2               3       2024-07-31         105  309.191028\n",
       "3               4       2024-04-10         103  424.357274\n",
       "4               5       2024-07-09         101  138.145672\n",
       "5               6       2024-04-25         103  414.536235\n",
       "6               7              NaN         104  328.273000\n",
       "7               8       2024-08-30         106  344.829897\n",
       "8               9       2024-10-03         106  126.410021\n",
       "9              10       2024-04-06         106  404.427439"
      ]
     },
     "execution_count": 6,
     "metadata": {},
     "output_type": "execute_result"
    }
   ],
   "source": [
    "trans.head(10)"
   ]
  },
  {
   "cell_type": "markdown",
   "id": "7d5f5fc0-7761-4428-bd03-d6d69e71f23c",
   "metadata": {
    "jp-MarkdownHeadingCollapsed": true
   },
   "source": [
    "## Products"
   ]
  },
  {
   "cell_type": "code",
   "execution_count": 8,
   "id": "72f4bdb9-acf2-43cc-b0de-64ca51e78bcb",
   "metadata": {},
   "outputs": [
    {
     "data": {
      "text/plain": [
       "product_id      0\n",
       "product_name    0\n",
       "category        0\n",
       "price           0\n",
       "dtype: int64"
      ]
     },
     "execution_count": 8,
     "metadata": {},
     "output_type": "execute_result"
    }
   ],
   "source": [
    "prod.isnull().sum()"
   ]
  },
  {
   "cell_type": "code",
   "execution_count": 9,
   "id": "77090056-4550-4bbf-9e41-67eb496dc3a8",
   "metadata": {},
   "outputs": [
    {
     "data": {
      "text/plain": [
       "0"
      ]
     },
     "execution_count": 9,
     "metadata": {},
     "output_type": "execute_result"
    }
   ],
   "source": [
    "prod.duplicated().sum()"
   ]
  },
  {
   "cell_type": "code",
   "execution_count": 10,
   "id": "b2503b13-96d0-4f93-a75c-f3948a3188a6",
   "metadata": {},
   "outputs": [
    {
     "data": {
      "text/plain": [
       "product_id        int64\n",
       "product_name     object\n",
       "category         object\n",
       "price           float64\n",
       "dtype: object"
      ]
     },
     "execution_count": 10,
     "metadata": {},
     "output_type": "execute_result"
    }
   ],
   "source": [
    "prod.dtypes"
   ]
  },
  {
   "cell_type": "code",
   "execution_count": 11,
   "id": "c17df25a-a1e1-49f2-bb97-dd2b63d57b8b",
   "metadata": {},
   "outputs": [],
   "source": [
    "prod[\"category\"] = prod[\"category\"].astype(\"category\")"
   ]
  },
  {
   "cell_type": "markdown",
   "id": "9aef4a4a-a235-4ebc-8fb2-3810d24acaa5",
   "metadata": {},
   "source": [
    "Let's see if there are any weird values in Category column:"
   ]
  },
  {
   "cell_type": "code",
   "execution_count": 12,
   "id": "bfaf04f6-9c6b-402e-99ec-487e97d70c66",
   "metadata": {},
   "outputs": [
    {
     "data": {
      "text/plain": [
       "category\n",
       "Furniture      218\n",
       "Electronics    215\n",
       "Toys           196\n",
       "Clothing       192\n",
       "Appliances     179\n",
       "Name: count, dtype: int64"
      ]
     },
     "execution_count": 12,
     "metadata": {},
     "output_type": "execute_result"
    }
   ],
   "source": [
    "prod[\"category\"].value_counts()"
   ]
  },
  {
   "cell_type": "markdown",
   "id": "37d473b6-e368-4c90-9698-888d21ce31f0",
   "metadata": {},
   "source": [
    "I will check whether any products have zero prices. These cases might indicate data entry issues, incomplete records, or products that were mistakenly added without a valid price."
   ]
  },
  {
   "cell_type": "code",
   "execution_count": 14,
   "id": "501159c7-8343-469c-80e2-8c94ed1d8482",
   "metadata": {},
   "outputs": [
    {
     "data": {
      "text/html": [
       "<div>\n",
       "<style scoped>\n",
       "    .dataframe tbody tr th:only-of-type {\n",
       "        vertical-align: middle;\n",
       "    }\n",
       "\n",
       "    .dataframe tbody tr th {\n",
       "        vertical-align: top;\n",
       "    }\n",
       "\n",
       "    .dataframe thead th {\n",
       "        text-align: right;\n",
       "    }\n",
       "</style>\n",
       "<table border=\"1\" class=\"dataframe\">\n",
       "  <thead>\n",
       "    <tr style=\"text-align: right;\">\n",
       "      <th></th>\n",
       "      <th>product_id</th>\n",
       "      <th>product_name</th>\n",
       "      <th>category</th>\n",
       "      <th>price</th>\n",
       "    </tr>\n",
       "  </thead>\n",
       "  <tbody>\n",
       "  </tbody>\n",
       "</table>\n",
       "</div>"
      ],
      "text/plain": [
       "Empty DataFrame\n",
       "Columns: [product_id, product_name, category, price]\n",
       "Index: []"
      ]
     },
     "execution_count": 14,
     "metadata": {},
     "output_type": "execute_result"
    }
   ],
   "source": [
    "prod[prod[\"price\"] == 0]"
   ]
  },
  {
   "cell_type": "code",
   "execution_count": 95,
   "id": "50b7bd3c-80d6-497b-b867-bd11ad53c61d",
   "metadata": {},
   "outputs": [
    {
     "data": {
      "text/html": [
       "<div>\n",
       "<style scoped>\n",
       "    .dataframe tbody tr th:only-of-type {\n",
       "        vertical-align: middle;\n",
       "    }\n",
       "\n",
       "    .dataframe tbody tr th {\n",
       "        vertical-align: top;\n",
       "    }\n",
       "\n",
       "    .dataframe thead th {\n",
       "        text-align: right;\n",
       "    }\n",
       "</style>\n",
       "<table border=\"1\" class=\"dataframe\">\n",
       "  <thead>\n",
       "    <tr style=\"text-align: right;\">\n",
       "      <th></th>\n",
       "      <th>product_id</th>\n",
       "      <th>price</th>\n",
       "    </tr>\n",
       "  </thead>\n",
       "  <tbody>\n",
       "    <tr>\n",
       "      <th>count</th>\n",
       "      <td>1000.000000</td>\n",
       "      <td>1000.000000</td>\n",
       "    </tr>\n",
       "    <tr>\n",
       "      <th>mean</th>\n",
       "      <td>600.500000</td>\n",
       "      <td>272.437039</td>\n",
       "    </tr>\n",
       "    <tr>\n",
       "      <th>std</th>\n",
       "      <td>288.819436</td>\n",
       "      <td>127.321858</td>\n",
       "    </tr>\n",
       "    <tr>\n",
       "      <th>min</th>\n",
       "      <td>101.000000</td>\n",
       "      <td>50.268009</td>\n",
       "    </tr>\n",
       "    <tr>\n",
       "      <th>25%</th>\n",
       "      <td>350.750000</td>\n",
       "      <td>160.971608</td>\n",
       "    </tr>\n",
       "    <tr>\n",
       "      <th>50%</th>\n",
       "      <td>600.500000</td>\n",
       "      <td>270.075291</td>\n",
       "    </tr>\n",
       "    <tr>\n",
       "      <th>75%</th>\n",
       "      <td>850.250000</td>\n",
       "      <td>380.025934</td>\n",
       "    </tr>\n",
       "    <tr>\n",
       "      <th>max</th>\n",
       "      <td>1100.000000</td>\n",
       "      <td>499.943217</td>\n",
       "    </tr>\n",
       "  </tbody>\n",
       "</table>\n",
       "</div>"
      ],
      "text/plain": [
       "        product_id        price\n",
       "count  1000.000000  1000.000000\n",
       "mean    600.500000   272.437039\n",
       "std     288.819436   127.321858\n",
       "min     101.000000    50.268009\n",
       "25%     350.750000   160.971608\n",
       "50%     600.500000   270.075291\n",
       "75%     850.250000   380.025934\n",
       "max    1100.000000   499.943217"
      ]
     },
     "execution_count": 95,
     "metadata": {},
     "output_type": "execute_result"
    }
   ],
   "source": [
    "prod.describe()"
   ]
  },
  {
   "cell_type": "markdown",
   "id": "a30b7a26-40c2-4ca0-a946-cc3acf9cfcc5",
   "metadata": {
    "jp-MarkdownHeadingCollapsed": true
   },
   "source": [
    "## Customers"
   ]
  },
  {
   "cell_type": "code",
   "execution_count": 17,
   "id": "5782a01b-0ca6-46a1-9507-d88282ad8487",
   "metadata": {},
   "outputs": [
    {
     "data": {
      "text/plain": [
       "customer_id    0\n",
       "first_name     0\n",
       "last_name      0\n",
       "email          0\n",
       "dtype: int64"
      ]
     },
     "execution_count": 17,
     "metadata": {},
     "output_type": "execute_result"
    }
   ],
   "source": [
    "cust.isnull().sum()"
   ]
  },
  {
   "cell_type": "code",
   "execution_count": 18,
   "id": "78e04287-46c5-4c9e-b296-c892b6cb7372",
   "metadata": {},
   "outputs": [
    {
     "data": {
      "text/plain": [
       "0"
      ]
     },
     "execution_count": 18,
     "metadata": {},
     "output_type": "execute_result"
    }
   ],
   "source": [
    "cust.duplicated().sum()"
   ]
  },
  {
   "cell_type": "code",
   "execution_count": 19,
   "id": "8ee40969-b767-431d-b488-71c5447f6215",
   "metadata": {},
   "outputs": [
    {
     "data": {
      "text/plain": [
       "customer_id     int64\n",
       "first_name     object\n",
       "last_name      object\n",
       "email          object\n",
       "dtype: object"
      ]
     },
     "execution_count": 19,
     "metadata": {},
     "output_type": "execute_result"
    }
   ],
   "source": [
    "cust.dtypes"
   ]
  },
  {
   "cell_type": "markdown",
   "id": "44577475-5ebe-4404-9998-e4c0983be98a",
   "metadata": {},
   "source": [
    "I checked the email addresses in the customers dataset to ensure they follow a valid format (e.g., name@example.com). A regular expression (regex) was used to validate the structure of each email."
   ]
  },
  {
   "cell_type": "code",
   "execution_count": 21,
   "id": "810edb31-0897-4b28-b948-82d3bc0c2073",
   "metadata": {},
   "outputs": [
    {
     "data": {
      "text/html": [
       "<div>\n",
       "<style scoped>\n",
       "    .dataframe tbody tr th:only-of-type {\n",
       "        vertical-align: middle;\n",
       "    }\n",
       "\n",
       "    .dataframe tbody tr th {\n",
       "        vertical-align: top;\n",
       "    }\n",
       "\n",
       "    .dataframe thead th {\n",
       "        text-align: right;\n",
       "    }\n",
       "</style>\n",
       "<table border=\"1\" class=\"dataframe\">\n",
       "  <thead>\n",
       "    <tr style=\"text-align: right;\">\n",
       "      <th></th>\n",
       "      <th>customer_id</th>\n",
       "      <th>first_name</th>\n",
       "      <th>last_name</th>\n",
       "      <th>email</th>\n",
       "    </tr>\n",
       "  </thead>\n",
       "  <tbody>\n",
       "  </tbody>\n",
       "</table>\n",
       "</div>"
      ],
      "text/plain": [
       "Empty DataFrame\n",
       "Columns: [customer_id, first_name, last_name, email]\n",
       "Index: []"
      ]
     },
     "execution_count": 21,
     "metadata": {},
     "output_type": "execute_result"
    }
   ],
   "source": [
    "pattern = r'^[\\w\\.-]+@[\\w\\.-]+\\.\\w{2,4}$'\n",
    "is_valid = cust[\"email\"].str.match(pattern)\n",
    "invalid_emails = cust.loc[is_valid == False]\n",
    "\n",
    "invalid_emails"
   ]
  },
  {
   "cell_type": "code",
   "execution_count": 100,
   "id": "f2aec2db-7acf-4393-8cc8-a7d7a724c101",
   "metadata": {},
   "outputs": [
    {
     "data": {
      "text/html": [
       "<div>\n",
       "<style scoped>\n",
       "    .dataframe tbody tr th:only-of-type {\n",
       "        vertical-align: middle;\n",
       "    }\n",
       "\n",
       "    .dataframe tbody tr th {\n",
       "        vertical-align: top;\n",
       "    }\n",
       "\n",
       "    .dataframe thead th {\n",
       "        text-align: right;\n",
       "    }\n",
       "</style>\n",
       "<table border=\"1\" class=\"dataframe\">\n",
       "  <thead>\n",
       "    <tr style=\"text-align: right;\">\n",
       "      <th></th>\n",
       "      <th>customer_id</th>\n",
       "    </tr>\n",
       "  </thead>\n",
       "  <tbody>\n",
       "    <tr>\n",
       "      <th>count</th>\n",
       "      <td>1000.000000</td>\n",
       "    </tr>\n",
       "    <tr>\n",
       "      <th>mean</th>\n",
       "      <td>500.500000</td>\n",
       "    </tr>\n",
       "    <tr>\n",
       "      <th>std</th>\n",
       "      <td>288.819436</td>\n",
       "    </tr>\n",
       "    <tr>\n",
       "      <th>min</th>\n",
       "      <td>1.000000</td>\n",
       "    </tr>\n",
       "    <tr>\n",
       "      <th>25%</th>\n",
       "      <td>250.750000</td>\n",
       "    </tr>\n",
       "    <tr>\n",
       "      <th>50%</th>\n",
       "      <td>500.500000</td>\n",
       "    </tr>\n",
       "    <tr>\n",
       "      <th>75%</th>\n",
       "      <td>750.250000</td>\n",
       "    </tr>\n",
       "    <tr>\n",
       "      <th>max</th>\n",
       "      <td>1000.000000</td>\n",
       "    </tr>\n",
       "  </tbody>\n",
       "</table>\n",
       "</div>"
      ],
      "text/plain": [
       "       customer_id\n",
       "count  1000.000000\n",
       "mean    500.500000\n",
       "std     288.819436\n",
       "min       1.000000\n",
       "25%     250.750000\n",
       "50%     500.500000\n",
       "75%     750.250000\n",
       "max    1000.000000"
      ]
     },
     "execution_count": 100,
     "metadata": {},
     "output_type": "execute_result"
    }
   ],
   "source": [
    "cust.describe()"
   ]
  },
  {
   "cell_type": "markdown",
   "id": "2f04bd3c-3b5c-48ea-bfe4-da5a00350c6c",
   "metadata": {
    "jp-MarkdownHeadingCollapsed": true
   },
   "source": [
    "## Transactions"
   ]
  },
  {
   "cell_type": "code",
   "execution_count": 23,
   "id": "799862a5-96c5-4d0d-8ac6-47dd899205a9",
   "metadata": {},
   "outputs": [
    {
     "data": {
      "text/plain": [
       "transaction_id      0\n",
       "transaction_date    1\n",
       "product_id          0\n",
       "amount              0\n",
       "dtype: int64"
      ]
     },
     "execution_count": 23,
     "metadata": {},
     "output_type": "execute_result"
    }
   ],
   "source": [
    "trans.isnull().sum()"
   ]
  },
  {
   "cell_type": "markdown",
   "id": "2066561c-5014-4d3c-ba40-0e072554e9c6",
   "metadata": {},
   "source": [
    "This one missing transaction_date is already a data quality issue. \n",
    "\n",
    "I cam't drop the row as it can affect aggregates.\n",
    "As about mean/median values, although it's mathematically computable, it will be meaningless to do with dates. \n",
    "As about mode, it's also unreliable here as it's like saying \"we’re not sure when this transaction happened, so let’s pretend it happened on the most popular date in the dataset\", which is a wrong approach cuz there might not be a clear winner. Or the \"most common\" date might just show up twice just by coincidence so it would be random and misleading."
   ]
  },
  {
   "cell_type": "markdown",
   "id": "1c67f446-83d3-4e31-998c-5f0bed38e40f",
   "metadata": {},
   "source": [
    "I'll check may I impute a date here or not, as if the csv is sorted by time I can look at several values before and after that one to check if it's the same day."
   ]
  },
  {
   "cell_type": "code",
   "execution_count": 26,
   "id": "9befe0eb-9c2b-4840-b422-77e4831d152c",
   "metadata": {},
   "outputs": [
    {
     "data": {
      "text/plain": [
       "('2024-09-08', '2024-03-01')"
      ]
     },
     "execution_count": 26,
     "metadata": {},
     "output_type": "execute_result"
    }
   ],
   "source": [
    "missing_id = trans[trans['transaction_date'].isnull()].index[0]\n",
    "\n",
    "before_date = trans.loc[missing_id - 5, 'transaction_date']\n",
    "after_date  = trans.loc[missing_id + 5, 'transaction_date']\n",
    "\n",
    "before_date, after_date"
   ]
  },
  {
   "cell_type": "markdown",
   "id": "cfe80aa9-7363-4ce7-8b53-65e279144dd2",
   "metadata": {},
   "source": [
    "Since the values before and after the missing row are quite far apart, I can use imputation here as well. "
   ]
  },
  {
   "cell_type": "markdown",
   "id": "e01b5122-8acc-43f5-b7a8-c3393fe0556d",
   "metadata": {},
   "source": [
    "In a real-world scenario, I would check the upstream pipeline, like the ETL process or data ingestion jobs or reach out to the data engineering team to trace and correct the missing date at the source. \n",
    "\n",
    "But since I only have access to static CSVs for this task, I will exclude the transaction with the missing transaction_date from any analysis since including it would lead to incorrect results.\n",
    "\n",
    "Also, as it's connected with the other 2 tables, I'll consider that as well. \n",
    "I'll not delete related entries from the products or customers tables as the product or customer linked to the transaction might still be used in other valid transactions.\n",
    "\n",
    "Instead, I’ll just move the problematic transaction into a separate dataset and mark it clearly. That way, it won’t interfere with any analysis, but it’s still there if someone wants to go back later and fix it, for example, by checking the original source system to find the correct date."
   ]
  },
  {
   "cell_type": "code",
   "execution_count": 29,
   "id": "3470a297-1cd0-42be-9d72-aa1a7121b0a0",
   "metadata": {},
   "outputs": [],
   "source": [
    "flag_miss = trans[trans[\"transaction_date\"].isnull()]"
   ]
  },
  {
   "cell_type": "code",
   "execution_count": 30,
   "id": "da60c306-90a2-4a7a-adb8-cb67a1c343c6",
   "metadata": {},
   "outputs": [],
   "source": [
    "flag_miss.to_csv(\"flagged_transactions.csv\", index=False)"
   ]
  },
  {
   "cell_type": "code",
   "execution_count": 31,
   "id": "f37acaed-b0a6-4f33-85f6-7cedafe57882",
   "metadata": {},
   "outputs": [
    {
     "data": {
      "text/plain": [
       "0"
      ]
     },
     "execution_count": 31,
     "metadata": {},
     "output_type": "execute_result"
    }
   ],
   "source": [
    "trans.duplicated().sum()"
   ]
  },
  {
   "cell_type": "code",
   "execution_count": 32,
   "id": "d14586aa-7100-4658-886b-5e00b99e442c",
   "metadata": {},
   "outputs": [
    {
     "data": {
      "text/plain": [
       "transaction_id        int64\n",
       "transaction_date     object\n",
       "product_id            int64\n",
       "amount              float64\n",
       "dtype: object"
      ]
     },
     "execution_count": 32,
     "metadata": {},
     "output_type": "execute_result"
    }
   ],
   "source": [
    "trans.dtypes"
   ]
  },
  {
   "cell_type": "code",
   "execution_count": 33,
   "id": "427d2daf-4d21-40c4-9592-1925233b283f",
   "metadata": {},
   "outputs": [],
   "source": [
    "trans['transaction_date'] = pd.to_datetime(trans['transaction_date'])"
   ]
  },
  {
   "cell_type": "code",
   "execution_count": 34,
   "id": "c524cb0b-c71c-4e7b-9440-2bf69b95e895",
   "metadata": {},
   "outputs": [
    {
     "data": {
      "text/plain": [
       "transaction_id               int64\n",
       "transaction_date    datetime64[ns]\n",
       "product_id                   int64\n",
       "amount                     float64\n",
       "dtype: object"
      ]
     },
     "execution_count": 34,
     "metadata": {},
     "output_type": "execute_result"
    }
   ],
   "source": [
    "trans.dtypes"
   ]
  },
  {
   "cell_type": "code",
   "execution_count": 35,
   "id": "d03f92bc-a275-4208-98ef-26a126093a7f",
   "metadata": {},
   "outputs": [
    {
     "data": {
      "text/html": [
       "<div>\n",
       "<style scoped>\n",
       "    .dataframe tbody tr th:only-of-type {\n",
       "        vertical-align: middle;\n",
       "    }\n",
       "\n",
       "    .dataframe tbody tr th {\n",
       "        vertical-align: top;\n",
       "    }\n",
       "\n",
       "    .dataframe thead th {\n",
       "        text-align: right;\n",
       "    }\n",
       "</style>\n",
       "<table border=\"1\" class=\"dataframe\">\n",
       "  <thead>\n",
       "    <tr style=\"text-align: right;\">\n",
       "      <th></th>\n",
       "      <th>transaction_id</th>\n",
       "      <th>transaction_date</th>\n",
       "      <th>product_id</th>\n",
       "      <th>amount</th>\n",
       "    </tr>\n",
       "  </thead>\n",
       "  <tbody>\n",
       "    <tr>\n",
       "      <th>0</th>\n",
       "      <td>1</td>\n",
       "      <td>2024-07-06</td>\n",
       "      <td>103</td>\n",
       "      <td>100.045934</td>\n",
       "    </tr>\n",
       "    <tr>\n",
       "      <th>1</th>\n",
       "      <td>2</td>\n",
       "      <td>2024-09-08</td>\n",
       "      <td>106</td>\n",
       "      <td>317.079944</td>\n",
       "    </tr>\n",
       "    <tr>\n",
       "      <th>2</th>\n",
       "      <td>3</td>\n",
       "      <td>2024-07-31</td>\n",
       "      <td>105</td>\n",
       "      <td>309.191028</td>\n",
       "    </tr>\n",
       "    <tr>\n",
       "      <th>3</th>\n",
       "      <td>4</td>\n",
       "      <td>2024-04-10</td>\n",
       "      <td>103</td>\n",
       "      <td>424.357274</td>\n",
       "    </tr>\n",
       "    <tr>\n",
       "      <th>4</th>\n",
       "      <td>5</td>\n",
       "      <td>2024-07-09</td>\n",
       "      <td>101</td>\n",
       "      <td>138.145672</td>\n",
       "    </tr>\n",
       "  </tbody>\n",
       "</table>\n",
       "</div>"
      ],
      "text/plain": [
       "   transaction_id transaction_date  product_id      amount\n",
       "0               1       2024-07-06         103  100.045934\n",
       "1               2       2024-09-08         106  317.079944\n",
       "2               3       2024-07-31         105  309.191028\n",
       "3               4       2024-04-10         103  424.357274\n",
       "4               5       2024-07-09         101  138.145672"
      ]
     },
     "execution_count": 35,
     "metadata": {},
     "output_type": "execute_result"
    }
   ],
   "source": [
    "trans.head()"
   ]
  },
  {
   "cell_type": "markdown",
   "id": "a2acbe79-4093-437f-8c9e-04776db1f96d",
   "metadata": {},
   "source": [
    "I filtered the transactions dataset to identify any entries where the transaction_date is after today's date."
   ]
  },
  {
   "cell_type": "code",
   "execution_count": 37,
   "id": "fe66a52b-b937-4394-a207-3e9c02a9184d",
   "metadata": {},
   "outputs": [
    {
     "data": {
      "text/html": [
       "<div>\n",
       "<style scoped>\n",
       "    .dataframe tbody tr th:only-of-type {\n",
       "        vertical-align: middle;\n",
       "    }\n",
       "\n",
       "    .dataframe tbody tr th {\n",
       "        vertical-align: top;\n",
       "    }\n",
       "\n",
       "    .dataframe thead th {\n",
       "        text-align: right;\n",
       "    }\n",
       "</style>\n",
       "<table border=\"1\" class=\"dataframe\">\n",
       "  <thead>\n",
       "    <tr style=\"text-align: right;\">\n",
       "      <th></th>\n",
       "      <th>transaction_id</th>\n",
       "      <th>transaction_date</th>\n",
       "      <th>product_id</th>\n",
       "      <th>amount</th>\n",
       "    </tr>\n",
       "  </thead>\n",
       "  <tbody>\n",
       "  </tbody>\n",
       "</table>\n",
       "</div>"
      ],
      "text/plain": [
       "Empty DataFrame\n",
       "Columns: [transaction_id, transaction_date, product_id, amount]\n",
       "Index: []"
      ]
     },
     "execution_count": 37,
     "metadata": {},
     "output_type": "execute_result"
    }
   ],
   "source": [
    "future_trans = trans[trans[\"transaction_date\"] > datetime.now()]\n",
    "future_trans"
   ]
  },
  {
   "cell_type": "markdown",
   "id": "da38fafb-34f8-427e-b30f-5630727def75",
   "metadata": {},
   "source": [
    "Let's verify that all product_ids in the transactions table exist in the products table.\n",
    "No customer_id exists in the transactions table, so no foreign key relationship can be checked with the customers data."
   ]
  },
  {
   "cell_type": "code",
   "execution_count": 38,
   "id": "1917cc53-5870-49e1-9b29-72bbe8125a8c",
   "metadata": {},
   "outputs": [
    {
     "data": {
      "text/html": [
       "<div>\n",
       "<style scoped>\n",
       "    .dataframe tbody tr th:only-of-type {\n",
       "        vertical-align: middle;\n",
       "    }\n",
       "\n",
       "    .dataframe tbody tr th {\n",
       "        vertical-align: top;\n",
       "    }\n",
       "\n",
       "    .dataframe thead th {\n",
       "        text-align: right;\n",
       "    }\n",
       "</style>\n",
       "<table border=\"1\" class=\"dataframe\">\n",
       "  <thead>\n",
       "    <tr style=\"text-align: right;\">\n",
       "      <th></th>\n",
       "      <th>transaction_id</th>\n",
       "      <th>transaction_date</th>\n",
       "      <th>product_id</th>\n",
       "      <th>amount</th>\n",
       "    </tr>\n",
       "  </thead>\n",
       "  <tbody>\n",
       "  </tbody>\n",
       "</table>\n",
       "</div>"
      ],
      "text/plain": [
       "Empty DataFrame\n",
       "Columns: [transaction_id, transaction_date, product_id, amount]\n",
       "Index: []"
      ]
     },
     "execution_count": 38,
     "metadata": {},
     "output_type": "execute_result"
    }
   ],
   "source": [
    "trans[trans[\"product_id\"].isin(prod[\"product_id\"]) == False]"
   ]
  },
  {
   "cell_type": "code",
   "execution_count": 39,
   "id": "aea8c627-6033-45d4-b5c0-bb25d247b70d",
   "metadata": {
    "scrolled": true
   },
   "outputs": [
    {
     "data": {
      "text/html": [
       "<div>\n",
       "<style scoped>\n",
       "    .dataframe tbody tr th:only-of-type {\n",
       "        vertical-align: middle;\n",
       "    }\n",
       "\n",
       "    .dataframe tbody tr th {\n",
       "        vertical-align: top;\n",
       "    }\n",
       "\n",
       "    .dataframe thead th {\n",
       "        text-align: right;\n",
       "    }\n",
       "</style>\n",
       "<table border=\"1\" class=\"dataframe\">\n",
       "  <thead>\n",
       "    <tr style=\"text-align: right;\">\n",
       "      <th></th>\n",
       "      <th>transaction_id</th>\n",
       "      <th>transaction_date</th>\n",
       "      <th>product_id</th>\n",
       "      <th>amount</th>\n",
       "    </tr>\n",
       "  </thead>\n",
       "  <tbody>\n",
       "    <tr>\n",
       "      <th>73</th>\n",
       "      <td>74</td>\n",
       "      <td>2024-03-31</td>\n",
       "      <td>102</td>\n",
       "      <td>-424.064256</td>\n",
       "    </tr>\n",
       "    <tr>\n",
       "      <th>78</th>\n",
       "      <td>79</td>\n",
       "      <td>2024-02-22</td>\n",
       "      <td>103</td>\n",
       "      <td>-414.732789</td>\n",
       "    </tr>\n",
       "    <tr>\n",
       "      <th>95</th>\n",
       "      <td>96</td>\n",
       "      <td>2024-11-11</td>\n",
       "      <td>102</td>\n",
       "      <td>-182.364493</td>\n",
       "    </tr>\n",
       "    <tr>\n",
       "      <th>127</th>\n",
       "      <td>128</td>\n",
       "      <td>2024-10-27</td>\n",
       "      <td>102</td>\n",
       "      <td>-71.498899</td>\n",
       "    </tr>\n",
       "    <tr>\n",
       "      <th>134</th>\n",
       "      <td>135</td>\n",
       "      <td>2024-07-24</td>\n",
       "      <td>102</td>\n",
       "      <td>-468.879208</td>\n",
       "    </tr>\n",
       "    <tr>\n",
       "      <th>144</th>\n",
       "      <td>145</td>\n",
       "      <td>2024-11-11</td>\n",
       "      <td>103</td>\n",
       "      <td>-117.101448</td>\n",
       "    </tr>\n",
       "    <tr>\n",
       "      <th>159</th>\n",
       "      <td>160</td>\n",
       "      <td>2024-12-25</td>\n",
       "      <td>101</td>\n",
       "      <td>-72.631286</td>\n",
       "    </tr>\n",
       "    <tr>\n",
       "      <th>162</th>\n",
       "      <td>163</td>\n",
       "      <td>2024-03-11</td>\n",
       "      <td>104</td>\n",
       "      <td>-298.499619</td>\n",
       "    </tr>\n",
       "    <tr>\n",
       "      <th>166</th>\n",
       "      <td>167</td>\n",
       "      <td>2024-03-22</td>\n",
       "      <td>106</td>\n",
       "      <td>-350.989690</td>\n",
       "    </tr>\n",
       "    <tr>\n",
       "      <th>167</th>\n",
       "      <td>168</td>\n",
       "      <td>2024-09-02</td>\n",
       "      <td>103</td>\n",
       "      <td>-171.044906</td>\n",
       "    </tr>\n",
       "    <tr>\n",
       "      <th>185</th>\n",
       "      <td>186</td>\n",
       "      <td>2024-10-11</td>\n",
       "      <td>104</td>\n",
       "      <td>-372.546789</td>\n",
       "    </tr>\n",
       "    <tr>\n",
       "      <th>239</th>\n",
       "      <td>240</td>\n",
       "      <td>2024-12-16</td>\n",
       "      <td>103</td>\n",
       "      <td>-255.506883</td>\n",
       "    </tr>\n",
       "    <tr>\n",
       "      <th>242</th>\n",
       "      <td>243</td>\n",
       "      <td>2024-08-18</td>\n",
       "      <td>104</td>\n",
       "      <td>-448.075032</td>\n",
       "    </tr>\n",
       "    <tr>\n",
       "      <th>252</th>\n",
       "      <td>253</td>\n",
       "      <td>2024-04-24</td>\n",
       "      <td>106</td>\n",
       "      <td>-207.306458</td>\n",
       "    </tr>\n",
       "    <tr>\n",
       "      <th>283</th>\n",
       "      <td>284</td>\n",
       "      <td>2024-11-22</td>\n",
       "      <td>105</td>\n",
       "      <td>-78.727254</td>\n",
       "    </tr>\n",
       "    <tr>\n",
       "      <th>311</th>\n",
       "      <td>312</td>\n",
       "      <td>2024-11-15</td>\n",
       "      <td>103</td>\n",
       "      <td>-394.709340</td>\n",
       "    </tr>\n",
       "    <tr>\n",
       "      <th>316</th>\n",
       "      <td>317</td>\n",
       "      <td>2024-09-20</td>\n",
       "      <td>103</td>\n",
       "      <td>-433.551061</td>\n",
       "    </tr>\n",
       "    <tr>\n",
       "      <th>328</th>\n",
       "      <td>329</td>\n",
       "      <td>2024-12-20</td>\n",
       "      <td>106</td>\n",
       "      <td>-95.301534</td>\n",
       "    </tr>\n",
       "    <tr>\n",
       "      <th>335</th>\n",
       "      <td>336</td>\n",
       "      <td>2024-01-01</td>\n",
       "      <td>104</td>\n",
       "      <td>-113.891060</td>\n",
       "    </tr>\n",
       "    <tr>\n",
       "      <th>345</th>\n",
       "      <td>346</td>\n",
       "      <td>2024-04-03</td>\n",
       "      <td>103</td>\n",
       "      <td>-445.726265</td>\n",
       "    </tr>\n",
       "    <tr>\n",
       "      <th>393</th>\n",
       "      <td>394</td>\n",
       "      <td>2024-04-13</td>\n",
       "      <td>106</td>\n",
       "      <td>-448.397730</td>\n",
       "    </tr>\n",
       "    <tr>\n",
       "      <th>401</th>\n",
       "      <td>402</td>\n",
       "      <td>2024-11-24</td>\n",
       "      <td>105</td>\n",
       "      <td>-399.148860</td>\n",
       "    </tr>\n",
       "    <tr>\n",
       "      <th>420</th>\n",
       "      <td>421</td>\n",
       "      <td>2024-06-15</td>\n",
       "      <td>103</td>\n",
       "      <td>-162.771127</td>\n",
       "    </tr>\n",
       "    <tr>\n",
       "      <th>487</th>\n",
       "      <td>488</td>\n",
       "      <td>2024-08-19</td>\n",
       "      <td>106</td>\n",
       "      <td>-62.948463</td>\n",
       "    </tr>\n",
       "    <tr>\n",
       "      <th>492</th>\n",
       "      <td>493</td>\n",
       "      <td>2024-04-19</td>\n",
       "      <td>101</td>\n",
       "      <td>-282.661015</td>\n",
       "    </tr>\n",
       "    <tr>\n",
       "      <th>532</th>\n",
       "      <td>533</td>\n",
       "      <td>2024-03-26</td>\n",
       "      <td>102</td>\n",
       "      <td>-403.263463</td>\n",
       "    </tr>\n",
       "    <tr>\n",
       "      <th>538</th>\n",
       "      <td>539</td>\n",
       "      <td>2024-03-02</td>\n",
       "      <td>106</td>\n",
       "      <td>-434.330264</td>\n",
       "    </tr>\n",
       "    <tr>\n",
       "      <th>548</th>\n",
       "      <td>549</td>\n",
       "      <td>2024-07-27</td>\n",
       "      <td>105</td>\n",
       "      <td>-255.298771</td>\n",
       "    </tr>\n",
       "    <tr>\n",
       "      <th>622</th>\n",
       "      <td>623</td>\n",
       "      <td>2024-07-03</td>\n",
       "      <td>103</td>\n",
       "      <td>-407.803217</td>\n",
       "    </tr>\n",
       "    <tr>\n",
       "      <th>623</th>\n",
       "      <td>624</td>\n",
       "      <td>2024-11-29</td>\n",
       "      <td>105</td>\n",
       "      <td>-456.392905</td>\n",
       "    </tr>\n",
       "    <tr>\n",
       "      <th>637</th>\n",
       "      <td>638</td>\n",
       "      <td>2024-08-14</td>\n",
       "      <td>101</td>\n",
       "      <td>-459.371466</td>\n",
       "    </tr>\n",
       "    <tr>\n",
       "      <th>645</th>\n",
       "      <td>646</td>\n",
       "      <td>2024-03-23</td>\n",
       "      <td>101</td>\n",
       "      <td>-327.334923</td>\n",
       "    </tr>\n",
       "    <tr>\n",
       "      <th>653</th>\n",
       "      <td>654</td>\n",
       "      <td>2024-07-19</td>\n",
       "      <td>104</td>\n",
       "      <td>-391.919351</td>\n",
       "    </tr>\n",
       "    <tr>\n",
       "      <th>707</th>\n",
       "      <td>708</td>\n",
       "      <td>2024-02-29</td>\n",
       "      <td>105</td>\n",
       "      <td>-201.996607</td>\n",
       "    </tr>\n",
       "    <tr>\n",
       "      <th>715</th>\n",
       "      <td>716</td>\n",
       "      <td>2024-01-07</td>\n",
       "      <td>102</td>\n",
       "      <td>-130.338068</td>\n",
       "    </tr>\n",
       "    <tr>\n",
       "      <th>814</th>\n",
       "      <td>815</td>\n",
       "      <td>2024-10-14</td>\n",
       "      <td>105</td>\n",
       "      <td>-210.929111</td>\n",
       "    </tr>\n",
       "    <tr>\n",
       "      <th>822</th>\n",
       "      <td>823</td>\n",
       "      <td>2024-04-07</td>\n",
       "      <td>106</td>\n",
       "      <td>-147.239298</td>\n",
       "    </tr>\n",
       "    <tr>\n",
       "      <th>829</th>\n",
       "      <td>830</td>\n",
       "      <td>2024-06-20</td>\n",
       "      <td>102</td>\n",
       "      <td>-417.982781</td>\n",
       "    </tr>\n",
       "    <tr>\n",
       "      <th>834</th>\n",
       "      <td>835</td>\n",
       "      <td>2024-01-25</td>\n",
       "      <td>101</td>\n",
       "      <td>-163.678557</td>\n",
       "    </tr>\n",
       "    <tr>\n",
       "      <th>892</th>\n",
       "      <td>893</td>\n",
       "      <td>2024-08-03</td>\n",
       "      <td>105</td>\n",
       "      <td>-149.188731</td>\n",
       "    </tr>\n",
       "    <tr>\n",
       "      <th>917</th>\n",
       "      <td>918</td>\n",
       "      <td>2024-03-05</td>\n",
       "      <td>102</td>\n",
       "      <td>-411.491160</td>\n",
       "    </tr>\n",
       "    <tr>\n",
       "      <th>940</th>\n",
       "      <td>941</td>\n",
       "      <td>2024-04-20</td>\n",
       "      <td>102</td>\n",
       "      <td>-263.391381</td>\n",
       "    </tr>\n",
       "    <tr>\n",
       "      <th>990</th>\n",
       "      <td>991</td>\n",
       "      <td>2024-09-03</td>\n",
       "      <td>101</td>\n",
       "      <td>-150.913867</td>\n",
       "    </tr>\n",
       "    <tr>\n",
       "      <th>995</th>\n",
       "      <td>996</td>\n",
       "      <td>2024-02-26</td>\n",
       "      <td>102</td>\n",
       "      <td>-396.172085</td>\n",
       "    </tr>\n",
       "  </tbody>\n",
       "</table>\n",
       "</div>"
      ],
      "text/plain": [
       "     transaction_id transaction_date  product_id      amount\n",
       "73               74       2024-03-31         102 -424.064256\n",
       "78               79       2024-02-22         103 -414.732789\n",
       "95               96       2024-11-11         102 -182.364493\n",
       "127             128       2024-10-27         102  -71.498899\n",
       "134             135       2024-07-24         102 -468.879208\n",
       "144             145       2024-11-11         103 -117.101448\n",
       "159             160       2024-12-25         101  -72.631286\n",
       "162             163       2024-03-11         104 -298.499619\n",
       "166             167       2024-03-22         106 -350.989690\n",
       "167             168       2024-09-02         103 -171.044906\n",
       "185             186       2024-10-11         104 -372.546789\n",
       "239             240       2024-12-16         103 -255.506883\n",
       "242             243       2024-08-18         104 -448.075032\n",
       "252             253       2024-04-24         106 -207.306458\n",
       "283             284       2024-11-22         105  -78.727254\n",
       "311             312       2024-11-15         103 -394.709340\n",
       "316             317       2024-09-20         103 -433.551061\n",
       "328             329       2024-12-20         106  -95.301534\n",
       "335             336       2024-01-01         104 -113.891060\n",
       "345             346       2024-04-03         103 -445.726265\n",
       "393             394       2024-04-13         106 -448.397730\n",
       "401             402       2024-11-24         105 -399.148860\n",
       "420             421       2024-06-15         103 -162.771127\n",
       "487             488       2024-08-19         106  -62.948463\n",
       "492             493       2024-04-19         101 -282.661015\n",
       "532             533       2024-03-26         102 -403.263463\n",
       "538             539       2024-03-02         106 -434.330264\n",
       "548             549       2024-07-27         105 -255.298771\n",
       "622             623       2024-07-03         103 -407.803217\n",
       "623             624       2024-11-29         105 -456.392905\n",
       "637             638       2024-08-14         101 -459.371466\n",
       "645             646       2024-03-23         101 -327.334923\n",
       "653             654       2024-07-19         104 -391.919351\n",
       "707             708       2024-02-29         105 -201.996607\n",
       "715             716       2024-01-07         102 -130.338068\n",
       "814             815       2024-10-14         105 -210.929111\n",
       "822             823       2024-04-07         106 -147.239298\n",
       "829             830       2024-06-20         102 -417.982781\n",
       "834             835       2024-01-25         101 -163.678557\n",
       "892             893       2024-08-03         105 -149.188731\n",
       "917             918       2024-03-05         102 -411.491160\n",
       "940             941       2024-04-20         102 -263.391381\n",
       "990             991       2024-09-03         101 -150.913867\n",
       "995             996       2024-02-26         102 -396.172085"
      ]
     },
     "execution_count": 39,
     "metadata": {},
     "output_type": "execute_result"
    }
   ],
   "source": [
    "trans[trans[\"amount\"] <= 0]"
   ]
  },
  {
   "cell_type": "markdown",
   "id": "7d7a0a09-4997-49df-b9f0-abd9f1f68118",
   "metadata": {},
   "source": [
    "I found 44 rows in the transactions data where the amount is negative. That might mean someone got a refund or maybe it’s just a mistake in the data - not 100% sure.\n",
    "\n",
    "So instead of deleting those rows, I’ll just flag them for now and add to flagged_transactions dataset. This way, they stay in the dataset in case they’re actually valid, but it’s also clear that they might need a closer look later."
   ]
  },
  {
   "cell_type": "code",
   "execution_count": 41,
   "id": "ad3d4795-9936-4b95-b658-8f6bfa007504",
   "metadata": {},
   "outputs": [],
   "source": [
    "flag_neg = trans[trans[\"amount\"] <= 0]"
   ]
  },
  {
   "cell_type": "code",
   "execution_count": 42,
   "id": "cb1ce745-f1ec-492e-af9f-ccd35a5104b3",
   "metadata": {},
   "outputs": [],
   "source": [
    "flag_neg.to_csv(\"flagged_transactions.csv\", mode=\"a\", index=False, header=False)"
   ]
  },
  {
   "cell_type": "markdown",
   "id": "268b2423-ffac-432e-b286-6317e0cb4b5f",
   "metadata": {},
   "source": [
    "I've got an idea that as there is possibility that these values might represent refunds, I can verify if each negative transaction could be a valid refund by checking for a matching positive transaction of the same amount (and product) that occurred earlier.\n",
    "\n",
    "To detect potential refunds, I compared each negative transaction with the rest of the data:\n",
    "- It must have the same product_id\n",
    "- The amounts should be equal in magnitude but opposite in sign\n",
    "- The positive transaction should occur before the negative one"
   ]
  },
  {
   "cell_type": "code",
   "execution_count": 44,
   "id": "faeab7d3-0e1c-4077-968f-b46b20a2066c",
   "metadata": {},
   "outputs": [
    {
     "data": {
      "text/plain": [
       "Counter({False: 43, True: 1})"
      ]
     },
     "execution_count": 44,
     "metadata": {},
     "output_type": "execute_result"
    }
   ],
   "source": [
    "tolerance = 1e-2\n",
    "refund_flags = []\n",
    "\n",
    "for _, neg_row in flag_neg.iterrows():\n",
    "    match = trans[\n",
    "        (trans[\"amount\"] > 0) &\n",
    "        (trans[\"product_id\"] == neg_row[\"product_id\"]) &\n",
    "        (abs(trans[\"amount\"] + neg_row[\"amount\"]) < tolerance) &\n",
    "        (trans[\"transaction_date\"] < neg_row[\"transaction_date\"])\n",
    "    ]\n",
    "    refund_flags.append(not match.empty)\n",
    "\n",
    "from collections import Counter\n",
    "refund_counts = Counter(refund_flags)\n",
    "refund_counts"
   ]
  },
  {
   "cell_type": "code",
   "execution_count": 45,
   "id": "4316d486-e65a-4ea0-986f-83f1b3f64379",
   "metadata": {},
   "outputs": [
    {
     "data": {
      "text/html": [
       "<div>\n",
       "<style scoped>\n",
       "    .dataframe tbody tr th:only-of-type {\n",
       "        vertical-align: middle;\n",
       "    }\n",
       "\n",
       "    .dataframe tbody tr th {\n",
       "        vertical-align: top;\n",
       "    }\n",
       "\n",
       "    .dataframe thead th {\n",
       "        text-align: right;\n",
       "    }\n",
       "</style>\n",
       "<table border=\"1\" class=\"dataframe\">\n",
       "  <thead>\n",
       "    <tr style=\"text-align: right;\">\n",
       "      <th></th>\n",
       "      <th>transaction_id</th>\n",
       "      <th>transaction_date</th>\n",
       "      <th>product_id</th>\n",
       "      <th>amount</th>\n",
       "    </tr>\n",
       "  </thead>\n",
       "  <tbody>\n",
       "    <tr>\n",
       "      <th>0</th>\n",
       "      <td>135</td>\n",
       "      <td>2024-07-24</td>\n",
       "      <td>102</td>\n",
       "      <td>-468.879208</td>\n",
       "    </tr>\n",
       "    <tr>\n",
       "      <th>1</th>\n",
       "      <td>238</td>\n",
       "      <td>2024-03-28</td>\n",
       "      <td>102</td>\n",
       "      <td>468.882452</td>\n",
       "    </tr>\n",
       "  </tbody>\n",
       "</table>\n",
       "</div>"
      ],
      "text/plain": [
       "   transaction_id transaction_date  product_id      amount\n",
       "0             135       2024-07-24         102 -468.879208\n",
       "1             238       2024-03-28         102  468.882452"
      ]
     },
     "execution_count": 45,
     "metadata": {},
     "output_type": "execute_result"
    }
   ],
   "source": [
    "matched_pairs = []\n",
    "\n",
    "for idx, neg_row in flag_neg.iterrows():\n",
    "    match = trans[\n",
    "        (trans[\"amount\"] > 0) &\n",
    "        (trans[\"product_id\"] == neg_row[\"product_id\"]) &\n",
    "        (abs(trans[\"amount\"] + neg_row[\"amount\"]) < tolerance) &\n",
    "        (trans[\"transaction_date\"] < neg_row[\"transaction_date\"])\n",
    "    ]\n",
    "    \n",
    "    if not match.empty:\n",
    "        matched_pairs.append(neg_row)\n",
    "        matched_pairs.append(match.iloc[0])\n",
    "\n",
    "refund_matches_stacked = pd.DataFrame(matched_pairs).reset_index(drop=True)\n",
    "refund_matches_stacked"
   ]
  },
  {
   "cell_type": "markdown",
   "id": "dacdf800-cdaa-47b2-8472-66656385f056",
   "metadata": {},
   "source": [
    "Out of all negative transactions, only one had a corresponding positive transaction that could explain it as a refund.\n",
    "\n",
    "Since I’m confident this one is a valid case, I’ll remove it from the flagged_transactions.csv file to keep only truly suspicious records."
   ]
  },
  {
   "cell_type": "code",
   "execution_count": 47,
   "id": "42e11c77-04e7-40fa-aacd-05f32b7e6ecb",
   "metadata": {},
   "outputs": [],
   "source": [
    "flagged = pd.read_csv(\"flagged_transactions.csv\")\n",
    "refund_neg_row = refund_matches_stacked.iloc[0]\n",
    "\n",
    "matching_refund = (flagged[\"transaction_id\"] == refund_neg_row[\"transaction_id\"]) & \\\n",
    "                  (abs(flagged[\"amount\"] - refund_neg_row[\"amount\"]) < 1e-2)\n",
    "\n",
    "flagged = flagged[matching_refund == False]\n",
    "\n",
    "flagged.to_csv(\"flagged_transactions.csv\", index=False)"
   ]
  },
  {
   "cell_type": "markdown",
   "id": "6a161eb5-c756-4e0f-a0a2-39c5be572288",
   "metadata": {},
   "source": [
    "And I'll check if it's removed from the csv."
   ]
  },
  {
   "cell_type": "code",
   "execution_count": 48,
   "id": "575b1097-e3c7-4f2b-920e-909902e3bdeb",
   "metadata": {},
   "outputs": [
    {
     "data": {
      "text/html": [
       "<div>\n",
       "<style scoped>\n",
       "    .dataframe tbody tr th:only-of-type {\n",
       "        vertical-align: middle;\n",
       "    }\n",
       "\n",
       "    .dataframe tbody tr th {\n",
       "        vertical-align: top;\n",
       "    }\n",
       "\n",
       "    .dataframe thead th {\n",
       "        text-align: right;\n",
       "    }\n",
       "</style>\n",
       "<table border=\"1\" class=\"dataframe\">\n",
       "  <thead>\n",
       "    <tr style=\"text-align: right;\">\n",
       "      <th></th>\n",
       "      <th>transaction_id</th>\n",
       "      <th>transaction_date</th>\n",
       "      <th>product_id</th>\n",
       "      <th>amount</th>\n",
       "    </tr>\n",
       "  </thead>\n",
       "  <tbody>\n",
       "  </tbody>\n",
       "</table>\n",
       "</div>"
      ],
      "text/plain": [
       "Empty DataFrame\n",
       "Columns: [transaction_id, transaction_date, product_id, amount]\n",
       "Index: []"
      ]
     },
     "execution_count": 48,
     "metadata": {},
     "output_type": "execute_result"
    }
   ],
   "source": [
    "flagged[flagged[\"transaction_id\"] == refund_neg_row[\"transaction_id\"]]"
   ]
  },
  {
   "cell_type": "code",
   "execution_count": 98,
   "id": "62b1cfae-8320-4af6-b475-6e683aead385",
   "metadata": {},
   "outputs": [
    {
     "data": {
      "text/html": [
       "<div>\n",
       "<style scoped>\n",
       "    .dataframe tbody tr th:only-of-type {\n",
       "        vertical-align: middle;\n",
       "    }\n",
       "\n",
       "    .dataframe tbody tr th {\n",
       "        vertical-align: top;\n",
       "    }\n",
       "\n",
       "    .dataframe thead th {\n",
       "        text-align: right;\n",
       "    }\n",
       "</style>\n",
       "<table border=\"1\" class=\"dataframe\">\n",
       "  <thead>\n",
       "    <tr style=\"text-align: right;\">\n",
       "      <th></th>\n",
       "      <th>transaction_id</th>\n",
       "      <th>transaction_date</th>\n",
       "      <th>product_id</th>\n",
       "      <th>amount</th>\n",
       "    </tr>\n",
       "  </thead>\n",
       "  <tbody>\n",
       "    <tr>\n",
       "      <th>count</th>\n",
       "      <td>1000.000000</td>\n",
       "      <td>999</td>\n",
       "      <td>1000.000000</td>\n",
       "      <td>1000.000000</td>\n",
       "    </tr>\n",
       "    <tr>\n",
       "      <th>mean</th>\n",
       "      <td>500.500000</td>\n",
       "      <td>2024-06-25 18:22:42.162162176</td>\n",
       "      <td>103.439000</td>\n",
       "      <td>250.316294</td>\n",
       "    </tr>\n",
       "    <tr>\n",
       "      <th>min</th>\n",
       "      <td>1.000000</td>\n",
       "      <td>2024-01-01 00:00:00</td>\n",
       "      <td>101.000000</td>\n",
       "      <td>-468.879208</td>\n",
       "    </tr>\n",
       "    <tr>\n",
       "      <th>25%</th>\n",
       "      <td>250.750000</td>\n",
       "      <td>2024-03-23 00:00:00</td>\n",
       "      <td>102.000000</td>\n",
       "      <td>158.243350</td>\n",
       "    </tr>\n",
       "    <tr>\n",
       "      <th>50%</th>\n",
       "      <td>500.500000</td>\n",
       "      <td>2024-06-20 00:00:00</td>\n",
       "      <td>103.000000</td>\n",
       "      <td>265.737134</td>\n",
       "    </tr>\n",
       "    <tr>\n",
       "      <th>75%</th>\n",
       "      <td>750.250000</td>\n",
       "      <td>2024-09-23 00:00:00</td>\n",
       "      <td>105.000000</td>\n",
       "      <td>368.072009</td>\n",
       "    </tr>\n",
       "    <tr>\n",
       "      <th>max</th>\n",
       "      <td>1000.000000</td>\n",
       "      <td>2024-12-31 00:00:00</td>\n",
       "      <td>106.000000</td>\n",
       "      <td>498.707406</td>\n",
       "    </tr>\n",
       "    <tr>\n",
       "      <th>std</th>\n",
       "      <td>288.819436</td>\n",
       "      <td>NaN</td>\n",
       "      <td>1.697398</td>\n",
       "      <td>170.610922</td>\n",
       "    </tr>\n",
       "  </tbody>\n",
       "</table>\n",
       "</div>"
      ],
      "text/plain": [
       "       transaction_id               transaction_date   product_id       amount\n",
       "count     1000.000000                            999  1000.000000  1000.000000\n",
       "mean       500.500000  2024-06-25 18:22:42.162162176   103.439000   250.316294\n",
       "min          1.000000            2024-01-01 00:00:00   101.000000  -468.879208\n",
       "25%        250.750000            2024-03-23 00:00:00   102.000000   158.243350\n",
       "50%        500.500000            2024-06-20 00:00:00   103.000000   265.737134\n",
       "75%        750.250000            2024-09-23 00:00:00   105.000000   368.072009\n",
       "max       1000.000000            2024-12-31 00:00:00   106.000000   498.707406\n",
       "std        288.819436                            NaN     1.697398   170.610922"
      ]
     },
     "execution_count": 98,
     "metadata": {},
     "output_type": "execute_result"
    }
   ],
   "source": [
    "trans.describe()"
   ]
  },
  {
   "cell_type": "code",
   "execution_count": null,
   "id": "a6dc602a-0504-4c9b-8328-d889cfad6621",
   "metadata": {},
   "outputs": [],
   "source": []
  },
  {
   "cell_type": "code",
   "execution_count": null,
   "id": "95c09612-0006-4166-960f-6aa9a840c050",
   "metadata": {},
   "outputs": [],
   "source": []
  },
  {
   "cell_type": "code",
   "execution_count": null,
   "id": "9711ac6e-7560-488d-9b00-46284a39b139",
   "metadata": {},
   "outputs": [],
   "source": []
  }
 ],
 "metadata": {
  "kernelspec": {
   "display_name": "Python [conda env:base] *",
   "language": "python",
   "name": "conda-base-py"
  },
  "language_info": {
   "codemirror_mode": {
    "name": "ipython",
    "version": 3
   },
   "file_extension": ".py",
   "mimetype": "text/x-python",
   "name": "python",
   "nbconvert_exporter": "python",
   "pygments_lexer": "ipython3",
   "version": "3.12.7"
  }
 },
 "nbformat": 4,
 "nbformat_minor": 5
}
