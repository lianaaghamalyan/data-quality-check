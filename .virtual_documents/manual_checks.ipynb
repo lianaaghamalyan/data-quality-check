import pandas as pd
from datetime import datetime
import re


cust = pd.read_csv("customers.csv", delimiter=';')
prod = pd.read_csv("products.csv", delimiter=';')
trans = pd.read_csv("transactions.csv", delimiter=';')


cust.head(10)


prod.head(10)


trans.head(10)





prod.isnull().sum()


prod.duplicated().sum()


prod.dtypes


prod["category"] = prod["category"].astype("category")





prod["category"].value_counts()





prod[prod["price"] == 0]


prod.describe()





cust.isnull().sum()


cust.duplicated().sum()


cust.dtypes





pattern = r'^[\w\.-]+@[\w\.-]+\.\w{2,4}$'
is_valid = cust["email"].str.match(pattern)
invalid_emails = cust.loc[is_valid == False]

invalid_emails


cust.describe()





trans.isnull().sum()








missing_id = trans[trans['transaction_date'].isnull()].index[0]

before_date = trans.loc[missing_id - 5, 'transaction_date']
after_date  = trans.loc[missing_id + 5, 'transaction_date']

before_date, after_date








trans.loc[trans["transaction_date"].isnull(), "transaction_id"]


flag_miss = trans[trans["transaction_date"].isnull()]


flag_miss.to_csv("flagged_transactions.csv", index=False)


trans.duplicated().sum()


trans.dtypes


trans['transaction_date'] = pd.to_datetime(trans['transaction_date'])


trans.dtypes


trans.head()





future_trans = trans[trans["transaction_date"] > datetime.now()]
future_trans





trans[trans["product_id"].isin(prod["product_id"]) == False]


trans[trans["amount"] <= 0]





flag_neg = trans[trans["amount"] <= 0]


flag_neg.to_csv("flagged_transactions.csv", mode="a", index=False, header=False)





tolerance = 1e-2
refund_flags = []

for _, neg_row in flag_neg.iterrows():
    match = trans[
        (trans["amount"] > 0) &
        (trans["product_id"] == neg_row["product_id"]) &
        (abs(trans["amount"] + neg_row["amount"]) < tolerance) &
        (trans["transaction_date"] < neg_row["transaction_date"])
    ]
    refund_flags.append(not match.empty)

from collections import Counter
refund_counts = Counter(refund_flags)
refund_counts


matched_pairs = []

for idx, neg_row in flag_neg.iterrows():
    match = trans[
        (trans["amount"] > 0) &
        (trans["product_id"] == neg_row["product_id"]) &
        (abs(trans["amount"] + neg_row["amount"]) < tolerance) &
        (trans["transaction_date"] < neg_row["transaction_date"])
    ]
    
    if not match.empty:
        matched_pairs.append(neg_row)
        matched_pairs.append(match.iloc[0])

refund_matches_stacked = pd.DataFrame(matched_pairs).reset_index(drop=True)
refund_matches_stacked





trans.describe()









